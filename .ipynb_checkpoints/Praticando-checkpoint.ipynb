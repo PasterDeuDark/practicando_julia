{
 "cells": [
  {
   "cell_type": "code",
   "execution_count": 2,
   "id": "0e394248",
   "metadata": {},
   "outputs": [
    {
     "name": "stdout",
     "output_type": "stream",
     "text": [
      "12\n"
     ]
    }
   ],
   "source": [
    "println(12)"
   ]
  },
  {
   "cell_type": "code",
   "execution_count": 21,
   "id": "95814198",
   "metadata": {},
   "outputs": [
    {
     "data": {
      "text/plain": [
       "Sumas (generic function with 2 methods)"
      ]
     },
     "execution_count": 21,
     "metadata": {},
     "output_type": "execute_result"
    }
   ],
   "source": [
    "function Sumas(x, y)::Int16\n",
    "    return x+y \n",
    "end"
   ]
  },
  {
   "cell_type": "code",
   "execution_count": 22,
   "id": "65f220bd",
   "metadata": {},
   "outputs": [
    {
     "data": {
      "text/plain": [
       "3"
      ]
     },
     "execution_count": 22,
     "metadata": {},
     "output_type": "execute_result"
    }
   ],
   "source": [
    "Sumas(2,1)"
   ]
  },
  {
   "cell_type": "markdown",
   "id": "168378d3",
   "metadata": {},
   "source": [
    "# Tipos de datos "
   ]
  },
  {
   "cell_type": "code",
   "execution_count": 27,
   "id": "70fcb821",
   "metadata": {},
   "outputs": [
    {
     "data": {
      "text/plain": [
       "Resta (generic function with 2 methods)"
      ]
     },
     "execution_count": 27,
     "metadata": {},
     "output_type": "execute_result"
    }
   ],
   "source": [
    "function Resta(x::Int64 , y::Int64)\n",
    "     x-y\n",
    "end"
   ]
  },
  {
   "cell_type": "code",
   "execution_count": 28,
   "id": "a8694071",
   "metadata": {},
   "outputs": [
    {
     "data": {
      "text/plain": [
       "2"
      ]
     },
     "execution_count": 28,
     "metadata": {},
     "output_type": "execute_result"
    }
   ],
   "source": [
    "Resta(4,2)"
   ]
  },
  {
   "cell_type": "markdown",
   "id": "2c6f2c33",
   "metadata": {},
   "source": [
    "# Arreglos"
   ]
  },
  {
   "cell_type": "code",
   "execution_count": 30,
   "id": "2ab4cf6c",
   "metadata": {},
   "outputs": [
    {
     "data": {
      "text/plain": [
       "7-element Vector{Int64}:\n",
       " 2\n",
       " 2\n",
       " 3\n",
       " 4\n",
       " 1\n",
       " 2\n",
       " 3"
      ]
     },
     "execution_count": 30,
     "metadata": {},
     "output_type": "execute_result"
    }
   ],
   "source": [
    "Vector{Int64}([2,2,3,4,1,2,3])"
   ]
  },
  {
   "cell_type": "code",
   "execution_count": 31,
   "id": "eb00fd1a",
   "metadata": {},
   "outputs": [
    {
     "data": {
      "text/plain": [
       "7-element Vector{Int64}:\n",
       " 2\n",
       " 2\n",
       " 3\n",
       " 4\n",
       " 1\n",
       " 2\n",
       " 3"
      ]
     },
     "execution_count": 31,
     "metadata": {},
     "output_type": "execute_result"
    }
   ],
   "source": [
    "m = Vector{Int64}([2,2,3,4,1,2,3])"
   ]
  },
  {
   "cell_type": "code",
   "execution_count": 33,
   "id": "c986f95f",
   "metadata": {},
   "outputs": [
    {
     "data": {
      "text/plain": [
       "6-element Vector{Float64}:\n",
       "  2.0\n",
       "  3.0\n",
       "  4.2\n",
       " 41.23\n",
       " 42.4\n",
       " 12.5"
      ]
     },
     "execution_count": 33,
     "metadata": {},
     "output_type": "execute_result"
    }
   ],
   "source": [
    "k = Vector{Float64}([2,3,4.2,41.23,42.4,12.5])"
   ]
  },
  {
   "cell_type": "code",
   "execution_count": 34,
   "id": "08cc6b52",
   "metadata": {},
   "outputs": [
    {
     "data": {
      "text/plain": [
       "5-element Vector{String}:\n",
       " \"lunes\"\n",
       " \"Martes\"\n",
       " \"Miercoles\"\n",
       " \"Jueves\"\n",
       " \"Viernes\""
      ]
     },
     "execution_count": 34,
     "metadata": {},
     "output_type": "execute_result"
    }
   ],
   "source": [
    "dias = Vector{String}([\"lunes\",\"Martes\",\"Miercoles\",\"Jueves\",\"Viernes\"])"
   ]
  },
  {
   "cell_type": "markdown",
   "id": "86d3352c",
   "metadata": {},
   "source": [
    "# Arreglos Multidimensionales"
   ]
  },
  {
   "cell_type": "code",
   "execution_count": 38,
   "id": "2edfb9cb",
   "metadata": {},
   "outputs": [
    {
     "data": {
      "text/plain": [
       "2×2 Matrix{Int64}:\n",
       " 2  3\n",
       " 2  4"
      ]
     },
     "execution_count": 38,
     "metadata": {},
     "output_type": "execute_result"
    }
   ],
   "source": [
    "Array{Int64}([2 3;2 4])"
   ]
  },
  {
   "cell_type": "code",
   "execution_count": 60,
   "id": "56f0a205",
   "metadata": {},
   "outputs": [
    {
     "data": {
      "text/plain": [
       "2×4 Matrix{Float64}:\n",
       " 2.0  3.0  3.0  5.0\n",
       " 2.0  4.0  3.0  5.0"
      ]
     },
     "execution_count": 60,
     "metadata": {},
     "output_type": "execute_result"
    }
   ],
   "source": [
    " o = Array{Float64}([2 3 3 5;2 4 3 5])"
   ]
  },
  {
   "cell_type": "code",
   "execution_count": 42,
   "id": "d5c6e55e",
   "metadata": {},
   "outputs": [
    {
     "data": {
      "text/plain": [
       "7-element Vector{Any}:\n",
       "  2.2\n",
       " 42\n",
       " 23\n",
       "  2\n",
       "   \"Hola\"\n",
       "   \"como\"\n",
       "   \"estan\""
      ]
     },
     "execution_count": 42,
     "metadata": {},
     "output_type": "execute_result"
    }
   ],
   "source": [
    "k = [2.2,42,23,2,\"Hola\",\"como\",\"estan\"]"
   ]
  },
  {
   "cell_type": "code",
   "execution_count": 45,
   "id": "960a6198",
   "metadata": {
    "scrolled": true
   },
   "outputs": [
    {
     "data": {
      "text/plain": [
       "Dict{String, String} with 2 entries:\n",
       "  \"Nombre\"   => \"Cristian\"\n",
       "  \"Apellido\" => \"Mancilla\""
      ]
     },
     "execution_count": 45,
     "metadata": {},
     "output_type": "execute_result"
    }
   ],
   "source": [
    "s =Dict(\"Nombre\"=> \"Cristian\",\"Apellido\"=> \"Mancilla\")"
   ]
  },
  {
   "cell_type": "code",
   "execution_count": 47,
   "id": "aa93aded",
   "metadata": {},
   "outputs": [
    {
     "data": {
      "text/plain": [
       "\"Cristian\""
      ]
     },
     "execution_count": 47,
     "metadata": {},
     "output_type": "execute_result"
    }
   ],
   "source": [
    "s[\"Nombre\"]"
   ]
  },
  {
   "cell_type": "code",
   "execution_count": 48,
   "id": "3b56a63b",
   "metadata": {},
   "outputs": [
    {
     "data": {
      "text/plain": [
       "true"
      ]
     },
     "execution_count": 48,
     "metadata": {},
     "output_type": "execute_result"
    }
   ],
   "source": [
    "haskey(s,\"Nombre\")"
   ]
  },
  {
   "cell_type": "code",
   "execution_count": 56,
   "id": "b5a9a824",
   "metadata": {},
   "outputs": [
    {
     "data": {
      "text/plain": [
       "\"is less 3\""
      ]
     },
     "execution_count": 56,
     "metadata": {},
     "output_type": "execute_result"
    }
   ],
   "source": [
    "2 > 3 ? \"is greater to 3\" : \"is less 3\""
   ]
  },
  {
   "cell_type": "code",
   "execution_count": 57,
   "id": "4db0442c",
   "metadata": {},
   "outputs": [
    {
     "name": "stdout",
     "output_type": "stream",
     "text": [
      "1\n",
      "2\n",
      "3\n",
      "4\n",
      "5\n"
     ]
    }
   ],
   "source": [
    "for i = 1:5\n",
    "    println(i)\n",
    "end"
   ]
  },
  {
   "cell_type": "code",
   "execution_count": 62,
   "id": "736c1080",
   "metadata": {},
   "outputs": [
    {
     "name": "stdout",
     "output_type": "stream",
     "text": [
      "lunes\n",
      "Martes\n",
      "Miercoles\n",
      "Jueves\n",
      "Viernes\n"
     ]
    }
   ],
   "source": [
    "for i in dias\n",
    "    println(i)\n",
    "end"
   ]
  },
  {
   "cell_type": "code",
   "execution_count": null,
   "id": "82e9230b",
   "metadata": {},
   "outputs": [],
   "source": []
  }
 ],
 "metadata": {
  "kernelspec": {
   "display_name": "Julia 1.7.1",
   "language": "julia",
   "name": "julia-1.7"
  },
  "language_info": {
   "file_extension": ".jl",
   "mimetype": "application/julia",
   "name": "julia",
   "version": "1.7.1"
  }
 },
 "nbformat": 4,
 "nbformat_minor": 5
}
