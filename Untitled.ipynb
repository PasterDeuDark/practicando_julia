{
 "cells": [
  {
   "cell_type": "code",
   "execution_count": 2,
   "id": "851c3127",
   "metadata": {},
   "outputs": [
    {
     "name": "stdout",
     "output_type": "stream",
     "text": [
      "12\n"
     ]
    }
   ],
   "source": [
    "println(12)"
   ]
  },
  {
   "cell_type": "code",
   "execution_count": 21,
   "id": "b7366cba",
   "metadata": {},
   "outputs": [
    {
     "data": {
      "text/plain": [
       "Sumas (generic function with 2 methods)"
      ]
     },
     "execution_count": 21,
     "metadata": {},
     "output_type": "execute_result"
    }
   ],
   "source": [
    "function Sumas(x, y)::Int16\n",
    "    return x+y \n",
    "end"
   ]
  },
  {
   "cell_type": "code",
   "execution_count": 22,
   "id": "e5ba76a9",
   "metadata": {},
   "outputs": [
    {
     "data": {
      "text/plain": [
       "3"
      ]
     },
     "execution_count": 22,
     "metadata": {},
     "output_type": "execute_result"
    }
   ],
   "source": [
    "Sumas(2,1)"
   ]
  },
  {
   "cell_type": "code",
   "execution_count": null,
   "id": "cfaada18",
   "metadata": {},
   "outputs": [],
   "source": []
  }
 ],
 "metadata": {
  "kernelspec": {
   "display_name": "Julia 1.7.1",
   "language": "julia",
   "name": "julia-1.7"
  },
  "language_info": {
   "file_extension": ".jl",
   "mimetype": "application/julia",
   "name": "julia",
   "version": "1.7.1"
  }
 },
 "nbformat": 4,
 "nbformat_minor": 5
}
