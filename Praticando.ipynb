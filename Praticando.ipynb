{
 "cells": [
  {
   "cell_type": "code",
   "execution_count": 2,
   "id": "0e394248",
   "metadata": {},
   "outputs": [
    {
     "name": "stdout",
     "output_type": "stream",
     "text": [
      "12\n"
     ]
    }
   ],
   "source": [
    "println(12)"
   ]
  },
  {
   "cell_type": "code",
   "execution_count": 15,
   "id": "95814198",
   "metadata": {},
   "outputs": [
    {
     "data": {
      "text/plain": [
       "Sumas (generic function with 1 method)"
      ]
     },
     "execution_count": 15,
     "metadata": {},
     "output_type": "execute_result"
    }
   ],
   "source": [
    "function Sumas(x, y)::Int16\n",
    "    return x+y \n",
    "end"
   ]
  },
  {
   "cell_type": "code",
   "execution_count": 17,
   "id": "65f220bd",
   "metadata": {},
   "outputs": [
    {
     "data": {
      "text/plain": [
       "3"
      ]
     },
     "execution_count": 17,
     "metadata": {},
     "output_type": "execute_result"
    }
   ],
   "source": [
    "Sumas.(2,1)"
   ]
  },
  {
   "cell_type": "markdown",
   "id": "168378d3",
   "metadata": {},
   "source": [
    "# Tipos de datos "
   ]
  },
  {
   "cell_type": "code",
   "execution_count": 27,
   "id": "70fcb821",
   "metadata": {},
   "outputs": [
    {
     "data": {
      "text/plain": [
       "Resta (generic function with 2 methods)"
      ]
     },
     "execution_count": 27,
     "metadata": {},
     "output_type": "execute_result"
    }
   ],
   "source": [
    "function Resta(x::Int64 , y::Int64)\n",
    "     x-y\n",
    "end"
   ]
  },
  {
   "cell_type": "code",
   "execution_count": 28,
   "id": "a8694071",
   "metadata": {},
   "outputs": [
    {
     "data": {
      "text/plain": [
       "2"
      ]
     },
     "execution_count": 28,
     "metadata": {},
     "output_type": "execute_result"
    }
   ],
   "source": [
    "Resta(4,2)"
   ]
  },
  {
   "cell_type": "markdown",
   "id": "2c6f2c33",
   "metadata": {},
   "source": [
    "# Arreglos"
   ]
  },
  {
   "cell_type": "code",
   "execution_count": 30,
   "id": "2ab4cf6c",
   "metadata": {},
   "outputs": [
    {
     "data": {
      "text/plain": [
       "7-element Vector{Int64}:\n",
       " 2\n",
       " 2\n",
       " 3\n",
       " 4\n",
       " 1\n",
       " 2\n",
       " 3"
      ]
     },
     "execution_count": 30,
     "metadata": {},
     "output_type": "execute_result"
    }
   ],
   "source": [
    "Vector{Int64}([2,2,3,4,1,2,3])"
   ]
  },
  {
   "cell_type": "code",
   "execution_count": 31,
   "id": "eb00fd1a",
   "metadata": {},
   "outputs": [
    {
     "data": {
      "text/plain": [
       "7-element Vector{Int64}:\n",
       " 2\n",
       " 2\n",
       " 3\n",
       " 4\n",
       " 1\n",
       " 2\n",
       " 3"
      ]
     },
     "execution_count": 31,
     "metadata": {},
     "output_type": "execute_result"
    }
   ],
   "source": [
    "m = Vector{Int64}([2,2,3,4,1,2,3])"
   ]
  },
  {
   "cell_type": "code",
   "execution_count": 33,
   "id": "c986f95f",
   "metadata": {},
   "outputs": [
    {
     "data": {
      "text/plain": [
       "6-element Vector{Float64}:\n",
       "  2.0\n",
       "  3.0\n",
       "  4.2\n",
       " 41.23\n",
       " 42.4\n",
       " 12.5"
      ]
     },
     "execution_count": 33,
     "metadata": {},
     "output_type": "execute_result"
    }
   ],
   "source": [
    "k = Vector{Float64}([2,3,4.2,41.23,42.4,12.5])"
   ]
  },
  {
   "cell_type": "code",
   "execution_count": 34,
   "id": "08cc6b52",
   "metadata": {},
   "outputs": [
    {
     "data": {
      "text/plain": [
       "5-element Vector{String}:\n",
       " \"lunes\"\n",
       " \"Martes\"\n",
       " \"Miercoles\"\n",
       " \"Jueves\"\n",
       " \"Viernes\""
      ]
     },
     "execution_count": 34,
     "metadata": {},
     "output_type": "execute_result"
    }
   ],
   "source": [
    "dias = Vector{String}([\"lunes\",\"Martes\",\"Miercoles\",\"Jueves\",\"Viernes\"])"
   ]
  },
  {
   "cell_type": "markdown",
   "id": "86d3352c",
   "metadata": {},
   "source": [
    "# Arreglos Multidimensionales"
   ]
  },
  {
   "cell_type": "code",
   "execution_count": 38,
   "id": "2edfb9cb",
   "metadata": {},
   "outputs": [
    {
     "data": {
      "text/plain": [
       "2×2 Matrix{Int64}:\n",
       " 2  3\n",
       " 2  4"
      ]
     },
     "execution_count": 38,
     "metadata": {},
     "output_type": "execute_result"
    }
   ],
   "source": [
    "Array{Int64}([2 3;2 4])"
   ]
  },
  {
   "cell_type": "code",
   "execution_count": 60,
   "id": "56f0a205",
   "metadata": {},
   "outputs": [
    {
     "data": {
      "text/plain": [
       "2×4 Matrix{Float64}:\n",
       " 2.0  3.0  3.0  5.0\n",
       " 2.0  4.0  3.0  5.0"
      ]
     },
     "execution_count": 60,
     "metadata": {},
     "output_type": "execute_result"
    }
   ],
   "source": [
    " o = Array{Float64}([2 3 3 5;2 4 3 5])"
   ]
  },
  {
   "cell_type": "code",
   "execution_count": 42,
   "id": "d5c6e55e",
   "metadata": {},
   "outputs": [
    {
     "data": {
      "text/plain": [
       "7-element Vector{Any}:\n",
       "  2.2\n",
       " 42\n",
       " 23\n",
       "  2\n",
       "   \"Hola\"\n",
       "   \"como\"\n",
       "   \"estan\""
      ]
     },
     "execution_count": 42,
     "metadata": {},
     "output_type": "execute_result"
    }
   ],
   "source": [
    "k = [2.2,42,23,2,\"Hola\",\"como\",\"estan\"]"
   ]
  },
  {
   "cell_type": "code",
   "execution_count": 10,
   "id": "960a6198",
   "metadata": {
    "scrolled": true
   },
   "outputs": [
    {
     "data": {
      "text/plain": [
       "Dict{String, String} with 2 entries:\n",
       "  \"Nombre\"   => \"Cristian\"\n",
       "  \"Apellido\" => \"Mancilla\""
      ]
     },
     "execution_count": 10,
     "metadata": {},
     "output_type": "execute_result"
    }
   ],
   "source": [
    "s =Dict(\"Nombre\"=> \"Cristian\",\"Apellido\"=> \"Mancilla\")"
   ]
  },
  {
   "cell_type": "code",
   "execution_count": 47,
   "id": "aa93aded",
   "metadata": {},
   "outputs": [
    {
     "data": {
      "text/plain": [
       "\"Cristian\""
      ]
     },
     "execution_count": 47,
     "metadata": {},
     "output_type": "execute_result"
    }
   ],
   "source": [
    "s[\"Nombre\"]"
   ]
  },
  {
   "cell_type": "code",
   "execution_count": 48,
   "id": "3b56a63b",
   "metadata": {},
   "outputs": [
    {
     "data": {
      "text/plain": [
       "true"
      ]
     },
     "execution_count": 48,
     "metadata": {},
     "output_type": "execute_result"
    }
   ],
   "source": [
    "haskey(s,\"Nombre\")"
   ]
  },
  {
   "cell_type": "code",
   "execution_count": 56,
   "id": "b5a9a824",
   "metadata": {},
   "outputs": [
    {
     "data": {
      "text/plain": [
       "\"is less 3\""
      ]
     },
     "execution_count": 56,
     "metadata": {},
     "output_type": "execute_result"
    }
   ],
   "source": [
    "2 > 3 ? \"is greater to 3\" : \"is less 3\""
   ]
  },
  {
   "cell_type": "code",
   "execution_count": 57,
   "id": "4db0442c",
   "metadata": {},
   "outputs": [
    {
     "name": "stdout",
     "output_type": "stream",
     "text": [
      "1\n",
      "2\n",
      "3\n",
      "4\n",
      "5\n"
     ]
    }
   ],
   "source": [
    "for i = 1:5\n",
    "    println(i)\n",
    "end"
   ]
  },
  {
   "cell_type": "code",
   "execution_count": 62,
   "id": "736c1080",
   "metadata": {},
   "outputs": [
    {
     "name": "stdout",
     "output_type": "stream",
     "text": [
      "lunes\n",
      "Martes\n",
      "Miercoles\n",
      "Jueves\n",
      "Viernes\n"
     ]
    }
   ],
   "source": [
    "for i in dias\n",
    "    println(i)\n",
    "end"
   ]
  },
  {
   "cell_type": "code",
   "execution_count": 3,
   "id": "82e9230b",
   "metadata": {},
   "outputs": [
    {
     "name": "stdout",
     "output_type": "stream",
     "text": [
      "stdin> cristian\n"
     ]
    },
    {
     "data": {
      "text/plain": [
       "\"cristian\""
      ]
     },
     "execution_count": 3,
     "metadata": {},
     "output_type": "execute_result"
    }
   ],
   "source": [
    "nombre = readline()"
   ]
  },
  {
   "cell_type": "code",
   "execution_count": 59,
   "id": "399971ad",
   "metadata": {},
   "outputs": [],
   "source": [
    "using HTTP, JSON3"
   ]
  },
  {
   "cell_type": "code",
   "execution_count": 30,
   "id": "9869fee6",
   "metadata": {},
   "outputs": [
    {
     "data": {
      "text/plain": [
       "HTTP.Messages.Response:\n",
       "\"\"\"\n",
       "HTTP/1.1 200 OK\r\n",
       "Date: Thu, 10 Mar 2022 22:15:40 GMT\r\n",
       "Content-Type: application/json; charset=utf-8\r\n",
       "Transfer-Encoding: chunked\r\n",
       "Connection: keep-alive\r\n",
       "Cache-Control: max-age=30, public, must-revalidate, s-maxage=60\r\n",
       "Access-Control-Allow-Origin: *\r\n",
       "Access-Control-Allow-Methods: POST, PUT, DELETE, GET, OPTIONS\r\n",
       "Access-Control-Request-Method: *\r\n",
       "Access-Control-Allow-Headers: Origin, X-Requested-With, Content-Type, Accept, Authorization\r\n",
       "Access-Control-Expose-Headers: link, per-page, total\r\n",
       "Vary: Accept-Encoding, Origin\r\n",
       "ETag: W/\"cca6d57cc25413b0a4dc2323c49377d1\"\r\n",
       "X-Request-Id: 83f22aff-507e-4da6-a3ed-e1f0aa507d1a\r\n",
       "X-Runtime: 0.002832\r\n",
       "Alternate-Protocol: 443:npn-spdy/2\r\n",
       "CF-Cache-Status: EXPIRED\r\n",
       "Expect-CT: max-age=604800, report-uri=\"https://report-uri.cloudflare.com/cdn-cgi/beacon/expect-ct\"\r\n",
       "Server: cloudflare\r\n",
       "CF-RAY: 6e9f690d5c8b0a0e-MIA\r\n",
       "\r\n",
       "{\"tron\":{\"usd\":0.059738,\"cny\":0.37766}}\"\"\""
      ]
     },
     "execution_count": 30,
     "metadata": {},
     "output_type": "execute_result"
    }
   ],
   "source": [
    "resp = HTTP.request(\"GET\",\"https://api.coingecko.com/api/v3/simple/price?ids=tron&vs_currencies=usd%2Ccny\" )"
   ]
  },
  {
   "cell_type": "code",
   "execution_count": 31,
   "id": "5bcd5f21",
   "metadata": {},
   "outputs": [
    {
     "data": {
      "text/plain": [
       "\"UInt8[0x7b, 0x22, 0x74, 0x72, 0x6f, 0x6e, 0x22, 0x3a, 0x7b, 0x22, 0x75, 0x73, 0x64, 0x22, 0x3a, 0x30, 0x2e, 0x30, 0x35, 0x39, 0x37, 0x33, 0x38, 0x2c, 0x22, 0x63, 0x6e, 0x79, 0x22, 0x3a, 0x30, 0x2e, 0x33, 0x37, 0x37, 0x36, 0x36, 0x7d, 0x7d]\""
      ]
     },
     "execution_count": 31,
     "metadata": {},
     "output_type": "execute_result"
    }
   ],
   "source": [
    "string(resp.body)"
   ]
  },
  {
   "cell_type": "code",
   "execution_count": 36,
   "id": "4cbd7e27",
   "metadata": {},
   "outputs": [
    {
     "data": {
      "text/plain": [
       "200"
      ]
     },
     "execution_count": 36,
     "metadata": {},
     "output_type": "execute_result"
    }
   ],
   "source": [
    "resp.status"
   ]
  },
  {
   "cell_type": "code",
   "execution_count": 37,
   "id": "0bfbc816",
   "metadata": {},
   "outputs": [
    {
     "data": {
      "text/plain": [
       "HTTP.Messages.Request:\n",
       "\"\"\"\n",
       "GET /api/v3/simple/price?ids=tron&vs_currencies=usd%2Ccny HTTP/1.1\r\n",
       "Host: api.coingecko.com\r\n",
       "Accept: */*\r\n",
       "User-Agent: HTTP.jl/1.7.1\r\n",
       "Content-Length: 0\r\n",
       "\r\n",
       "\"\"\""
      ]
     },
     "execution_count": 37,
     "metadata": {},
     "output_type": "execute_result"
    }
   ],
   "source": [
    "resp.request"
   ]
  },
  {
   "cell_type": "code",
   "execution_count": 60,
   "id": "040ee46b",
   "metadata": {},
   "outputs": [
    {
     "data": {
      "text/plain": [
       "JSON3.Object{Vector{UInt8}, Vector{UInt64}} with 1 entry:\n",
       "  :tron => {…"
      ]
     },
     "execution_count": 60,
     "metadata": {},
     "output_type": "execute_result"
    }
   ],
   "source": [
    "JSON3.read(resp.body)"
   ]
  },
  {
   "cell_type": "code",
   "execution_count": 47,
   "id": "6d83d812",
   "metadata": {},
   "outputs": [
    {
     "data": {
      "text/plain": [
       "JSON3.Object{Vector{UInt8}, Vector{UInt64}} with 1 entry:\n",
       "  :tron => {…"
      ]
     },
     "execution_count": 47,
     "metadata": {},
     "output_type": "execute_result"
    }
   ],
   "source": [
    "s1\n"
   ]
  },
  {
   "cell_type": "code",
   "execution_count": 51,
   "id": "79061c5e",
   "metadata": {},
   "outputs": [
    {
     "name": "stdout",
     "output_type": "stream",
     "text": [
      "{\n",
      "   \"tron\": {\n",
      "              \"usd\": 0.059738,\n",
      "              \"cny\": 0.37766\n",
      "           }\n",
      "}\n"
     ]
    }
   ],
   "source": [
    "println(s1)"
   ]
  },
  {
   "cell_type": "code",
   "execution_count": 52,
   "id": "915daec1",
   "metadata": {},
   "outputs": [
    {
     "data": {
      "text/plain": [
       "Dict{Any, Any}()"
      ]
     },
     "execution_count": 52,
     "metadata": {},
     "output_type": "execute_result"
    }
   ],
   "source": []
  },
  {
   "cell_type": "code",
   "execution_count": 64,
   "id": "e59a2329",
   "metadata": {},
   "outputs": [
    {
     "data": {
      "text/plain": [
       "JSON3.Object{Vector{UInt8}, Vector{UInt64}}"
      ]
     },
     "execution_count": 64,
     "metadata": {},
     "output_type": "execute_result"
    }
   ],
   "source": [
    "typeof(s1)"
   ]
  },
  {
   "cell_type": "code",
   "execution_count": 66,
   "id": "544c476b",
   "metadata": {},
   "outputs": [
    {
     "data": {
      "text/plain": [
       "0"
      ]
     },
     "execution_count": 66,
     "metadata": {},
     "output_type": "execute_result"
    }
   ],
   "source": [
    "a = 0"
   ]
  },
  {
   "cell_type": "code",
   "execution_count": 67,
   "id": "7b292825",
   "metadata": {},
   "outputs": [
    {
     "data": {
      "text/plain": [
       "\"h\""
      ]
     },
     "execution_count": 67,
     "metadata": {},
     "output_type": "execute_result"
    }
   ],
   "source": [
    "a = \"h\""
   ]
  },
  {
   "cell_type": "code",
   "execution_count": 75,
   "id": "bebfc92d",
   "metadata": {},
   "outputs": [],
   "source": [
    "using GLMakie"
   ]
  },
  {
   "cell_type": "code",
   "execution_count": 78,
   "id": "120b7cce",
   "metadata": {},
   "outputs": [
    {
     "data": {
      "text/plain": [
       "\"lorenz.mp4\""
      ]
     },
     "execution_count": 78,
     "metadata": {},
     "output_type": "execute_result"
    }
   ],
   "source": [
    "\n",
    "\n",
    "Base.@kwdef mutable struct Lorenz\n",
    "    dt::Float64 = 0.01\n",
    "    σ::Float64 = 10\n",
    "    ρ::Float64 = 28\n",
    "    β::Float64 = 8/3\n",
    "    x::Float64 = 1\n",
    "    y::Float64 = 1\n",
    "    z::Float64 = 1\n",
    "end\n",
    "\n",
    "function step!(l::Lorenz)\n",
    "    dx = l.σ * (l.y - l.x)\n",
    "    dy = l.x * (l.ρ - l.z) - l.y\n",
    "    dz = l.x * l.y - l.β * l.z\n",
    "    l.x += l.dt * dx\n",
    "    l.y += l.dt * dy\n",
    "    l.z += l.dt * dz\n",
    "    Point3f(l.x, l.y, l.z)\n",
    "end\n",
    "\n",
    "attractor = Lorenz()\n",
    "\n",
    "points = Observable(Point3f[])\n",
    "colors = Observable(Int[])\n",
    "\n",
    "set_theme!(theme_black())\n",
    "\n",
    "fig, ax, l = lines(points, color = colors,\n",
    "    colormap = :inferno, transparency = true,\n",
    "    axis = (; type = Axis3, protrusions = (0, 0, 0, 0),\n",
    "        viewmode = :fit, limits = (-30, 30, -30, 30, 0, 50)))\n",
    "\n",
    "record(fig, \"lorenz.mp4\", 1:120) do frame\n",
    "    for i in 1:50\n",
    "        push!(points[], step!(attractor))\n",
    "        push!(colors[], frame)\n",
    "    end\n",
    "    ax.azimuth[] = 1.7pi + 0.3 * sin(2pi * frame / 120)\n",
    "    notify.((points, colors))\n",
    "    l.colorrange = (0, frame)\n",
    "end"
   ]
  },
  {
   "cell_type": "code",
   "execution_count": null,
   "id": "6574dbbe",
   "metadata": {},
   "outputs": [],
   "source": []
  },
  {
   "cell_type": "code",
   "execution_count": null,
   "id": "fefecff8",
   "metadata": {},
   "outputs": [],
   "source": []
  }
 ],
 "metadata": {
  "kernelspec": {
   "display_name": "Julia 1.7.1",
   "language": "julia",
   "name": "julia-1.7"
  },
  "language_info": {
   "file_extension": ".jl",
   "mimetype": "application/julia",
   "name": "julia",
   "version": "1.7.1"
  }
 },
 "nbformat": 4,
 "nbformat_minor": 5
}
